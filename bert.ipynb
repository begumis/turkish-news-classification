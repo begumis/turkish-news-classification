{
  "cells": [
    {
      "cell_type": "code",
      "execution_count": 3,
      "metadata": {
        "id": "t6u6TT2MLyY7"
      },
      "outputs": [],
      "source": [
        "import os\n",
        "import pandas as pd\n",
        "import numpy as np\n",
        "import matplotlib.pyplot as plt\n",
        "import seaborn as sns\n",
        "from sklearn.model_selection import train_test_split\n",
        "from sklearn.metrics import classification_report, confusion_matrix, roc_auc_score, RocCurveDisplay\n",
        "from sklearn.preprocessing import label_binarize\n",
        "from transformers import BertTokenizer, BertForSequenceClassification, Trainer, TrainingArguments\n",
        "import torch"
      ]
    },
    {
      "cell_type": "code",
      "execution_count": 5,
      "metadata": {
        "colab": {
          "base_uri": "https://localhost:8080/",
          "height": 292,
          "referenced_widgets": [
            "1c20796d581e4ea6ac71865276ba05ff",
            "3cda85a628694377bc7b204f09201022",
            "3f45ef8108ac4cdf95be15d09a151984",
            "7945836fd00b4302b56afb74128f5035",
            "ed3751dcb33c4ec88526d5e3111d2c28",
            "0c351438d6fd424895f78355cac078b4",
            "e4f413aaf6dc4d91b50830a6eecf4c56",
            "7c6a4b06d28f4a70980a7aac01b5999a",
            "bcc143498a8b4d0ab0e78bd093339845",
            "e97394a6becc4b5f9664b83b0dec97aa",
            "908450f9b80a4daeb494e95b3ae4f56b",
            "9946358a67834583a5e67c8c2c94214b",
            "b4aa66ced8ec49009d37a0aa133a38db",
            "72c3cc0b241b42e7ac0e397b59b41980",
            "4829176a057543ba84b78cc4f0c94cb8",
            "54782eab0ddf4c2b8cf2c1ace58f1048",
            "4bc00c7e20a54c3b96bea972f4602d93",
            "f521812ad0f24f1d8e60a6e8b1c13365",
            "81f1b243310b43a49500ec4ac718a33b",
            "a6795cdb28184b3c8666ad2f7ac31345",
            "387f5ffd0be649279a2a005401c4747a",
            "4196bac37617494897d41ef8bad16dba"
          ]
        },
        "id": "kZl9rocq_Z6_",
        "outputId": "fe5b083e-c71e-4a44-c157-272d1e613210"
      },
      "outputs": [
        {
          "output_type": "stream",
          "name": "stdout",
          "text": [
            "category\n",
            "siyaset       700\n",
            "dunya         700\n",
            "ekonomi       700\n",
            "kultur        700\n",
            "saglik        700\n",
            "spor          700\n",
            "teknoloji     700\n",
            "Name: count, dtype: int64\n"
          ]
        },
        {
          "output_type": "display_data",
          "data": {
            "text/plain": [
              "model.safetensors:   0%|          | 0.00/672M [00:00<?, ?B/s]"
            ],
            "application/vnd.jupyter.widget-view+json": {
              "version_major": 2,
              "version_minor": 0,
              "model_id": "1c20796d581e4ea6ac71865276ba05ff"
            }
          },
          "metadata": {}
        },
        {
          "output_type": "stream",
          "name": "stderr",
          "text": [
            "Some weights of BertForSequenceClassification were not initialized from the model checkpoint at bert-base-multilingual-uncased and are newly initialized: ['classifier.bias', 'classifier.weight']\n",
            "You should probably TRAIN this model on a down-stream task to be able to use it for predictions and inference.\n"
          ]
        },
        {
          "output_type": "display_data",
          "data": {
            "text/plain": [
              "model.safetensors:   0%|          | 0.00/443M [00:00<?, ?B/s]"
            ],
            "application/vnd.jupyter.widget-view+json": {
              "version_major": 2,
              "version_minor": 0,
              "model_id": "9946358a67834583a5e67c8c2c94214b"
            }
          },
          "metadata": {}
        }
      ],
      "source": [
        "# W&B'yi devre dışı bırak\n",
        "os.environ[\"WANDB_DISABLED\"] = \"true\"\n",
        "\n",
        "# 1. Veri Setini Yükleme ve Ön İşleme\n",
        "df = pd.read_csv(\"7allV03.csv\")\n",
        "texts = df['text'].tolist()  # Metin sütunu\n",
        "labels = df['category'].tolist()  # Etiket sütunu\n",
        "\n",
        "# Sınıf dengesi kontrolü\n",
        "print(df['category'].value_counts())\n",
        "\n",
        "# Etiketleri integer olarak kodlama\n",
        "unique_labels = list(set(labels))\n",
        "label_to_int = {label: i for i, label in enumerate(unique_labels)}\n",
        "int_labels = [label_to_int[label] for label in labels if label in label_to_int]\n",
        "\n",
        "# 2. Veriyi Eğitim, Doğrulama ve Test Setine Bölme\n",
        "train_texts, temp_texts, train_labels, temp_labels = train_test_split(texts, int_labels, test_size=0.2, stratify=int_labels)\n",
        "val_texts, test_texts, val_labels, test_labels = train_test_split(temp_texts, temp_labels, test_size=0.5, stratify=temp_labels)\n",
        "\n",
        "# 3. Tokenizer Seçimi ve Veriyi Dönüştürme\n",
        "# Multilingual BERT Tokenizer\n",
        "multilingual_tokenizer = BertTokenizer.from_pretrained('bert-base-multilingual-uncased')\n",
        "# Türkçe BERT Tokenizer\n",
        "turkish_tokenizer = BertTokenizer.from_pretrained('savasy/bert-turkish-text-classification')\n",
        "\n",
        "# Tokenize etme\n",
        "train_encodings_multilingual = multilingual_tokenizer(train_texts, truncation=True, padding=True, max_length=512)\n",
        "val_encodings_multilingual = multilingual_tokenizer(val_texts, truncation=True, padding=True, max_length=512)\n",
        "test_encodings_multilingual = multilingual_tokenizer(test_texts, truncation=True, padding=True, max_length=512)\n",
        "\n",
        "train_encodings_turkish = turkish_tokenizer(train_texts, truncation=True, padding=True, max_length=512)\n",
        "val_encodings_turkish = turkish_tokenizer(val_texts, truncation=True, padding=True, max_length=512)\n",
        "test_encodings_turkish = turkish_tokenizer(test_texts, truncation=True, padding=True, max_length=512)\n",
        "\n",
        "# Dataset hazırlama\n",
        "class TextDataset(torch.utils.data.Dataset):\n",
        "    def __init__(self, encodings, labels):\n",
        "        self.encodings = encodings\n",
        "        self.labels = labels\n",
        "\n",
        "    def __len__(self):\n",
        "        return len(self.labels)\n",
        "\n",
        "    def __getitem__(self, idx):\n",
        "        item = {key: torch.tensor(val[idx]) for key, val in self.encodings.items()}\n",
        "        item['labels'] = torch.tensor(int(self.labels[idx]), dtype=torch.long)\n",
        "        return item\n",
        "\n",
        "train_dataset_multilingual = TextDataset(train_encodings_multilingual, train_labels)\n",
        "val_dataset_multilingual = TextDataset(val_encodings_multilingual, val_labels)\n",
        "test_dataset_multilingual = TextDataset(test_encodings_multilingual, test_labels)\n",
        "\n",
        "train_dataset_turkish = TextDataset(train_encodings_turkish, train_labels)\n",
        "val_dataset_turkish = TextDataset(val_encodings_turkish, val_labels)\n",
        "test_dataset_turkish = TextDataset(test_encodings_turkish, test_labels)\n",
        "\n",
        "# 4. Model Tanımlama ve Eğitim\n",
        "# Multilingual BERT Modeli\n",
        "multilingual_model = BertForSequenceClassification.from_pretrained('bert-base-multilingual-uncased', num_labels=len(unique_labels))\n",
        "\n",
        "# Türkçe BERT Modeli\n",
        "turkish_model = BertForSequenceClassification.from_pretrained('savasy/bert-turkish-text-classification', num_labels=len(unique_labels))\n",
        "\n",
        "# Eğitim ayarları\n",
        "def train_model(model, train_dataset, val_dataset, output_dir):\n",
        "    training_args = TrainingArguments(\n",
        "        output_dir=output_dir,\n",
        "        evaluation_strategy=\"epoch\",\n",
        "        learning_rate=2e-5,\n",
        "        per_device_train_batch_size=16,\n",
        "        per_device_eval_batch_size=16,\n",
        "        num_train_epochs=3,\n",
        "        weight_decay=0.01,\n",
        "        logging_dir='./logs',\n",
        "        logging_steps=10,\n",
        "        save_total_limit=1,\n",
        "        save_steps=500,\n",
        "        report_to=[]  # W&B'yi devre dışı bırakır\n",
        "    )\n",
        "\n",
        "    trainer = Trainer(\n",
        "        model=model,\n",
        "        args=training_args,\n",
        "        train_dataset=train_dataset,\n",
        "        eval_dataset=val_dataset,\n",
        "        compute_metrics=lambda p: {\n",
        "            'accuracy': (p.predictions.argmax(-1) == p.label_ids).mean()\n",
        "        }\n",
        "    )\n",
        "\n",
        "    trainer.train()\n",
        "    return trainer\n",
        "\n"
      ]
    },
    {
      "cell_type": "code",
      "execution_count": 6,
      "metadata": {
        "colab": {
          "base_uri": "https://localhost:8080/",
          "height": 224
        },
        "id": "iA8WKgUf_uGQ",
        "outputId": "27482b3b-928d-4a93-8be8-87e0b0c1994d"
      },
      "outputs": [
        {
          "output_type": "stream",
          "name": "stderr",
          "text": [
            "/usr/local/lib/python3.11/dist-packages/transformers/training_args.py:1575: FutureWarning: `evaluation_strategy` is deprecated and will be removed in version 4.46 of 🤗 Transformers. Use `eval_strategy` instead\n",
            "  warnings.warn(\n"
          ]
        },
        {
          "output_type": "display_data",
          "data": {
            "text/plain": [
              "<IPython.core.display.HTML object>"
            ],
            "text/html": [
              "\n",
              "    <div>\n",
              "      \n",
              "      <progress value='735' max='735' style='width:300px; height:20px; vertical-align: middle;'></progress>\n",
              "      [735/735 20:44, Epoch 3/3]\n",
              "    </div>\n",
              "    <table border=\"1\" class=\"dataframe\">\n",
              "  <thead>\n",
              " <tr style=\"text-align: left;\">\n",
              "      <th>Epoch</th>\n",
              "      <th>Training Loss</th>\n",
              "      <th>Validation Loss</th>\n",
              "      <th>Accuracy</th>\n",
              "    </tr>\n",
              "  </thead>\n",
              "  <tbody>\n",
              "    <tr>\n",
              "      <td>1</td>\n",
              "      <td>0.352700</td>\n",
              "      <td>0.358740</td>\n",
              "      <td>0.906122</td>\n",
              "    </tr>\n",
              "    <tr>\n",
              "      <td>2</td>\n",
              "      <td>0.258900</td>\n",
              "      <td>0.276823</td>\n",
              "      <td>0.922449</td>\n",
              "    </tr>\n",
              "    <tr>\n",
              "      <td>3</td>\n",
              "      <td>0.174800</td>\n",
              "      <td>0.276628</td>\n",
              "      <td>0.924490</td>\n",
              "    </tr>\n",
              "  </tbody>\n",
              "</table><p>"
            ]
          },
          "metadata": {}
        }
      ],
      "source": [
        "# Multilingual Model Eğitimi\n",
        "trainer_multilingual = train_model(multilingual_model, train_dataset_multilingual, val_dataset_multilingual, \"./multilingual_bert\")"
      ]
    },
    {
      "cell_type": "code",
      "execution_count": 7,
      "metadata": {
        "colab": {
          "base_uri": "https://localhost:8080/",
          "height": 224
        },
        "id": "M4dn7AxME-kk",
        "outputId": "ff049730-039f-4ad4-c411-c168000c0dcf"
      },
      "outputs": [
        {
          "output_type": "stream",
          "name": "stderr",
          "text": [
            "/usr/local/lib/python3.11/dist-packages/transformers/training_args.py:1575: FutureWarning: `evaluation_strategy` is deprecated and will be removed in version 4.46 of 🤗 Transformers. Use `eval_strategy` instead\n",
            "  warnings.warn(\n"
          ]
        },
        {
          "output_type": "display_data",
          "data": {
            "text/plain": [
              "<IPython.core.display.HTML object>"
            ],
            "text/html": [
              "\n",
              "    <div>\n",
              "      \n",
              "      <progress value='735' max='735' style='width:300px; height:20px; vertical-align: middle;'></progress>\n",
              "      [735/735 20:19, Epoch 3/3]\n",
              "    </div>\n",
              "    <table border=\"1\" class=\"dataframe\">\n",
              "  <thead>\n",
              " <tr style=\"text-align: left;\">\n",
              "      <th>Epoch</th>\n",
              "      <th>Training Loss</th>\n",
              "      <th>Validation Loss</th>\n",
              "      <th>Accuracy</th>\n",
              "    </tr>\n",
              "  </thead>\n",
              "  <tbody>\n",
              "    <tr>\n",
              "      <td>1</td>\n",
              "      <td>0.098500</td>\n",
              "      <td>0.174488</td>\n",
              "      <td>0.961224</td>\n",
              "    </tr>\n",
              "    <tr>\n",
              "      <td>2</td>\n",
              "      <td>0.091500</td>\n",
              "      <td>0.161177</td>\n",
              "      <td>0.967347</td>\n",
              "    </tr>\n",
              "    <tr>\n",
              "      <td>3</td>\n",
              "      <td>0.013600</td>\n",
              "      <td>0.167012</td>\n",
              "      <td>0.965306</td>\n",
              "    </tr>\n",
              "  </tbody>\n",
              "</table><p>"
            ]
          },
          "metadata": {}
        }
      ],
      "source": [
        "# Türkçe Model Eğitimi\n",
        "trainer_turkish = train_model(turkish_model, train_dataset_turkish, val_dataset_turkish, \"./turkish_bert\")"
      ]
    },
    {
      "cell_type": "code",
      "execution_count": 8,
      "metadata": {
        "colab": {
          "base_uri": "https://localhost:8080/",
          "height": 17
        },
        "id": "F4NB5EluIoRF",
        "outputId": "950331c4-08a5-4767-d05e-a711c690d31a"
      },
      "outputs": [
        {
          "output_type": "display_data",
          "data": {
            "text/plain": [
              "<IPython.core.display.HTML object>"
            ],
            "text/html": []
          },
          "metadata": {}
        }
      ],
      "source": [
        "# 5. Değerlendirme\n",
        "# Multilingual Model Test Sonuçları\n",
        "preds_multilingual = trainer_multilingual.predict(test_dataset_multilingual)\n",
        "pred_labels_multilingual = preds_multilingual.predictions.argmax(-1)"
      ]
    },
    {
      "cell_type": "code",
      "execution_count": 9,
      "metadata": {
        "colab": {
          "base_uri": "https://localhost:8080/",
          "height": 17
        },
        "id": "cCMh9exYIpt9",
        "outputId": "b269c34a-b424-4eeb-95fd-7708e8fa4f3b"
      },
      "outputs": [
        {
          "output_type": "display_data",
          "data": {
            "text/plain": [
              "<IPython.core.display.HTML object>"
            ],
            "text/html": []
          },
          "metadata": {}
        }
      ],
      "source": [
        "# Türkçe Model Test Sonuçları\n",
        "preds_turkish = trainer_turkish.predict(test_dataset_turkish)\n",
        "pred_labels_turkish = preds_turkish.predictions.argmax(-1)"
      ]
    },
    {
      "cell_type": "code",
      "execution_count": 10,
      "metadata": {
        "colab": {
          "base_uri": "https://localhost:8080/",
          "height": 1000
        },
        "id": "MUraBD98_pth",
        "outputId": "1990f92e-51a3-4d4e-da65-abf01c13b8fc"
      },
      "outputs": [
        {
          "output_type": "stream",
          "name": "stdout",
          "text": [
            "Multilingual BERT\n",
            "              precision    recall  f1-score   support\n",
            "\n",
            "           0       0.90      0.90      0.90        70\n",
            "           1       0.83      0.86      0.85        70\n",
            "           2       0.89      0.90      0.89        70\n",
            "           3       0.94      0.93      0.94        70\n",
            "           4       0.87      0.84      0.86        70\n",
            "           5       0.94      0.93      0.94        70\n",
            "           6       0.97      0.99      0.98        70\n",
            "\n",
            "    accuracy                           0.91       490\n",
            "   macro avg       0.91      0.91      0.91       490\n",
            "weighted avg       0.91      0.91      0.91       490\n",
            "\n"
          ]
        },
        {
          "output_type": "display_data",
          "data": {
            "text/plain": [
              "<Figure size 800x600 with 2 Axes>"
            ],
            "image/png": "[encoded data removed]"
          },
          "metadata": {}
        },
        {
          "output_type": "stream",
          "name": "stdout",
          "text": [
            "\n",
            "Turkish BERT\n",
            "              precision    recall  f1-score   support\n",
            "\n",
            "           0       0.94      0.96      0.95        70\n",
            "           1       0.93      0.91      0.92        70\n",
            "           2       0.93      0.97      0.95        70\n",
            "           3       0.99      1.00      0.99        70\n",
            "           4       0.96      0.91      0.93        70\n",
            "           5       0.99      0.97      0.98        70\n",
            "           6       1.00      1.00      1.00        70\n",
            "\n",
            "    accuracy                           0.96       490\n",
            "   macro avg       0.96      0.96      0.96       490\n",
            "weighted avg       0.96      0.96      0.96       490\n",
            "\n"
          ]
        },
        {
          "output_type": "display_data",
          "data": {
            "text/plain": [
              "<Figure size 800x600 with 2 Axes>"
            ],
            "image/png": "[encoded data removed]"
          },
          "metadata": {}
        }
      ],
      "source": [
        "# Confusion Matrix için Renkli Çizim\n",
        "def plot_confusion_matrix(y_true, y_pred, labels, title):\n",
        "    cm = confusion_matrix(y_true, y_pred)\n",
        "    plt.figure(figsize=(8, 6))\n",
        "    sns.heatmap(cm, annot=True, fmt='d', cmap='Blues', xticklabels=labels, yticklabels=labels)\n",
        "    plt.title(title)\n",
        "    plt.xlabel('Predicted Labels')\n",
        "    plt.ylabel('True Labels')\n",
        "    plt.show()\n",
        "\n",
        "print(\"Multilingual BERT\")\n",
        "print(classification_report(test_labels, pred_labels_multilingual))\n",
        "plot_confusion_matrix(test_labels, pred_labels_multilingual, labels=unique_labels, title=\"Confusion Matrix - Multilingual BERT\")\n",
        "\n",
        "print(\"\\nTurkish BERT\")\n",
        "print(classification_report(test_labels, pred_labels_turkish))\n",
        "plot_confusion_matrix(test_labels, pred_labels_turkish, labels=unique_labels, title=\"Confusion Matrix - Turkish BERT\")\n"
      ]
    },
    {
      "cell_type": "code",
      "execution_count": 11,
      "metadata": {
        "colab": {
          "base_uri": "https://localhost:8080/",
          "height": 617
        },
        "id": "gounqRDpLKbw",
        "outputId": "d0dca5a2-06cd-499b-cec9-2fa716046f2a"
      },
      "outputs": [
        {
          "output_type": "stream",
          "name": "stdout",
          "text": [
            "AUC Multilingual BERT: 0.9912001943634597\n",
            "AUC Turkish BERT: 0.9971720116618076\n"
          ]
        },
        {
          "output_type": "display_data",
          "data": {
            "text/plain": [
              "<Figure size 1200x600 with 2 Axes>"
            ],
            "image/png": "[encoded data removed]"
          },
          "metadata": {}
        }
      ],
      "source": [
        "# AUC hesaplama için test etiketlerini binary formata dönüştür\n",
        "num_classes = len(unique_labels)\n",
        "test_labels_binarized = label_binarize(test_labels, classes=list(range(num_classes)))\n",
        "\n",
        "# AUC hesaplama (Multilingual)\n",
        "auc_multilingual = roc_auc_score(test_labels_binarized, preds_multilingual.predictions, multi_class='ovr', average='macro')\n",
        "\n",
        "# AUC hesaplama (Turkish)\n",
        "auc_turkish = roc_auc_score(test_labels_binarized, preds_turkish.predictions, multi_class='ovr', average='macro')\n",
        "\n",
        "print(f\"AUC Multilingual BERT: {auc_multilingual}\")\n",
        "print(f\"AUC Turkish BERT: {auc_turkish}\")\n",
        "\n",
        "# ROC Curve Çizimi\n",
        "fig, ax = plt.subplots(1, 2, figsize=(12, 6))\n",
        "\n",
        "for i in range(num_classes):\n",
        "    RocCurveDisplay.from_predictions(\n",
        "        test_labels_binarized[:, i], preds_multilingual.predictions[:, i], name=f\"Class {i}\", ax=ax[0]\n",
        "    )\n",
        "ax[0].set_title(\"ROC Curve - Multilingual BERT\")\n",
        "ax[0].legend(loc=\"best\")\n",
        "\n",
        "for i in range(num_classes):\n",
        "    RocCurveDisplay.from_predictions(\n",
        "        test_labels_binarized[:, i], preds_turkish.predictions[:, i], name=f\"Class {i}\", ax=ax[1]\n",
        "    )\n",
        "ax[1].set_title(\"ROC Curve - Turkish BERT\")\n",
        "ax[1].legend(loc=\"best\")\n",
        "\n",
        "plt.tight_layout()\n",
        "plt.show()"
      ]
    }
  ],
  "metadata": {
    "accelerator": "GPU",
    "colab": {
      "gpuType": "T4",
      "provenance": []
    },
    "kernelspec": {
      "display_name": "Python 3",
      "name": "python3"
    },
    "language_info": {
      "codemirror_mode": {
        "name": "ipython",
        "version": 3
      },
      "file_extension": ".py",
      "mimetype": "text/x-python",
      "name": "python",
      "nbconvert_exporter": "python",
      "pygments_lexer": "ipython3",
      "version": "3.12.2"
    },
    "widgets": {
      "application/vnd.jupyter.widget-state+json": {
        "1c20796d581e4ea6ac71865276ba05ff": {
          "model_module": "@jupyter-widgets/controls",
          "model_name": "HBoxModel",
          "model_module_version": "1.5.0",
          "state": {
            "_dom_classes": [],
            "_model_module": "@jupyter-widgets/controls",
            "_model_module_version": "1.5.0",
            "_model_name": "HBoxModel",
            "_view_count": null,
            "_view_module": "@jupyter-widgets/controls",
            "_view_module_version": "1.5.0",
            "_view_name": "HBoxView",
            "box_style": "",
            "children": [
              "IPY_MODEL_3cda85a628694377bc7b204f09201022",
              "IPY_MODEL_3f45ef8108ac4cdf95be15d09a151984",
              "IPY_MODEL_7945836fd00b4302b56afb74128f5035"
            ],
            "layout": "IPY_MODEL_ed3751dcb33c4ec88526d5e3111d2c28"
          }
        },
        "3cda85a628694377bc7b204f09201022": {
          "model_module": "@jupyter-widgets/controls",
          "model_name": "HTMLModel",
          "model_module_version": "1.5.0",
          "state": {
            "_dom_classes": [],
            "_model_module": "@jupyter-widgets/controls",
            "_model_module_version": "1.5.0",
            "_model_name": "HTMLModel",
            "_view_count": null,
            "_view_module": "@jupyter-widgets/controls",
            "_view_module_version": "1.5.0",
            "_view_name": "HTMLView",
            "description": "",
            "description_tooltip": null,
            "layout": "IPY_MODEL_0c351438d6fd424895f78355cac078b4",
            "placeholder": "​",
            "style": "IPY_MODEL_e4f413aaf6dc4d91b50830a6eecf4c56",
            "value": "model.safetensors: 100%"
          }
        },
        "3f45ef8108ac4cdf95be15d09a151984": {
          "model_module": "@jupyter-widgets/controls",
          "model_name": "FloatProgressModel",
          "model_module_version": "1.5.0",
          "state": {
            "_dom_classes": [],
            "_model_module": "@jupyter-widgets/controls",
            "_model_module_version": "1.5.0",
            "_model_name": "FloatProgressModel",
            "_view_count": null,
            "_view_module": "@jupyter-widgets/controls",
            "_view_module_version": "1.5.0",
            "_view_name": "ProgressView",
            "bar_style": "success",
            "description": "",
            "description_tooltip": null,
            "layout": "IPY_MODEL_7c6a4b06d28f4a70980a7aac01b5999a",
            "max": 672247920,
            "min": 0,
            "orientation": "horizontal",
            "style": "IPY_MODEL_bcc143498a8b4d0ab0e78bd093339845",
            "value": 672247920
          }
        },
        "7945836fd00b4302b56afb74128f5035": {
          "model_module": "@jupyter-widgets/controls",
          "model_name": "HTMLModel",
          "model_module_version": "1.5.0",
          "state": {
            "_dom_classes": [],
            "_model_module": "@jupyter-widgets/controls",
            "_model_module_version": "1.5.0",
            "_model_name": "HTMLModel",
            "_view_count": null,
            "_view_module": "@jupyter-widgets/controls",
            "_view_module_version": "1.5.0",
            "_view_name": "HTMLView",
            "description": "",
            "description_tooltip": null,
            "layout": "IPY_MODEL_e97394a6becc4b5f9664b83b0dec97aa",
            "placeholder": "​",
            "style": "IPY_MODEL_908450f9b80a4daeb494e95b3ae4f56b",
            "value": " 672M/672M [00:05&lt;00:00, 230MB/s]"
          }
        },
        "ed3751dcb33c4ec88526d5e3111d2c28": {
          "model_module": "@jupyter-widgets/base",
          "model_name": "LayoutModel",
          "model_module_version": "1.2.0",
          "state": {
            "_model_module": "@jupyter-widgets/base",
            "_model_module_version": "1.2.0",
            "_model_name": "LayoutModel",
            "_view_count": null,
            "_view_module": "@jupyter-widgets/base",
            "_view_module_version": "1.2.0",
            "_view_name": "LayoutView",
            "align_content": null,
            "align_items": null,
            "align_self": null,
            "border": null,
            "bottom": null,
            "display": null,
            "flex": null,
            "flex_flow": null,
            "grid_area": null,
            "grid_auto_columns": null,
            "grid_auto_flow": null,
            "grid_auto_rows": null,
            "grid_column": null,
            "grid_gap": null,
            "grid_row": null,
            "grid_template_areas": null,
            "grid_template_columns": null,
            "grid_template_rows": null,
            "height": null,
            "justify_content": null,
            "justify_items": null,
            "left": null,
            "margin": null,
            "max_height": null,
            "max_width": null,
            "min_height": null,
            "min_width": null,
            "object_fit": null,
            "object_position": null,
            "order": null,
            "overflow": null,
            "overflow_x": null,
            "overflow_y": null,
            "padding": null,
            "right": null,
            "top": null,
            "visibility": null,
            "width": null
          }
        },
        "0c351438d6fd424895f78355cac078b4": {
          "model_module": "@jupyter-widgets/base",
          "model_name": "LayoutModel",
          "model_module_version": "1.2.0",
          "state": {
            "_model_module": "@jupyter-widgets/base",
            "_model_module_version": "1.2.0",
            "_model_name": "LayoutModel",
            "_view_count": null,
            "_view_module": "@jupyter-widgets/base",
            "_view_module_version": "1.2.0",
            "_view_name": "LayoutView",
            "align_content": null,
            "align_items": null,
            "align_self": null,
            "border": null,
            "bottom": null,
            "display": null,
            "flex": null,
            "flex_flow": null,
            "grid_area": null,
            "grid_auto_columns": null,
            "grid_auto_flow": null,
            "grid_auto_rows": null,
            "grid_column": null,
            "grid_gap": null,
            "grid_row": null,
            "grid_template_areas": null,
            "grid_template_columns": null,
            "grid_template_rows": null,
            "height": null,
            "justify_content": null,
            "justify_items": null,
            "left": null,
            "margin": null,
            "max_height": null,
            "max_width": null,
            "min_height": null,
            "min_width": null,
            "object_fit": null,
            "object_position": null,
            "order": null,
            "overflow": null,
            "overflow_x": null,
            "overflow_y": null,
            "padding": null,
            "right": null,
            "top": null,
            "visibility": null,
            "width": null
          }
        },
        "e4f413aaf6dc4d91b50830a6eecf4c56": {
          "model_module": "@jupyter-widgets/controls",
          "model_name": "DescriptionStyleModel",
          "model_module_version": "1.5.0",
          "state": {
            "_model_module": "@jupyter-widgets/controls",
            "_model_module_version": "1.5.0",
            "_model_name": "DescriptionStyleModel",
            "_view_count": null,
            "_view_module": "@jupyter-widgets/base",
            "_view_module_version": "1.2.0",
            "_view_name": "StyleView",
            "description_width": ""
          }
        },
        "7c6a4b06d28f4a70980a7aac01b5999a": {
          "model_module": "@jupyter-widgets/base",
          "model_name": "LayoutModel",
          "model_module_version": "1.2.0",
          "state": {
            "_model_module": "@jupyter-widgets/base",
            "_model_module_version": "1.2.0",
            "_model_name": "LayoutModel",
            "_view_count": null,
            "_view_module": "@jupyter-widgets/base",
            "_view_module_version": "1.2.0",
            "_view_name": "LayoutView",
            "align_content": null,
            "align_items": null,
            "align_self": null,
            "border": null,
            "bottom": null,
            "display": null,
            "flex": null,
            "flex_flow": null,
            "grid_area": null,
            "grid_auto_columns": null,
            "grid_auto_flow": null,
            "grid_auto_rows": null,
            "grid_column": null,
            "grid_gap": null,
            "grid_row": null,
            "grid_template_areas": null,
            "grid_template_columns": null,
            "grid_template_rows": null,
            "height": null,
            "justify_content": null,
            "justify_items": null,
            "left": null,
            "margin": null,
            "max_height": null,
            "max_width": null,
            "min_height": null,
            "min_width": null,
            "object_fit": null,
            "object_position": null,
            "order": null,
            "overflow": null,
            "overflow_x": null,
            "overflow_y": null,
            "padding": null,
            "right": null,
            "top": null,
            "visibility": null,
            "width": null
          }
        },
        "bcc143498a8b4d0ab0e78bd093339845": {
          "model_module": "@jupyter-widgets/controls",
          "model_name": "ProgressStyleModel",
          "model_module_version": "1.5.0",
          "state": {
            "_model_module": "@jupyter-widgets/controls",
            "_model_module_version": "1.5.0",
            "_model_name": "ProgressStyleModel",
            "_view_count": null,
            "_view_module": "@jupyter-widgets/base",
            "_view_module_version": "1.2.0",
            "_view_name": "StyleView",
            "bar_color": null,
            "description_width": ""
          }
        },
        "e97394a6becc4b5f9664b83b0dec97aa": {
          "model_module": "@jupyter-widgets/base",
          "model_name": "LayoutModel",
          "model_module_version": "1.2.0",
          "state": {
            "_model_module": "@jupyter-widgets/base",
            "_model_module_version": "1.2.0",
            "_model_name": "LayoutModel",
            "_view_count": null,
            "_view_module": "@jupyter-widgets/base",
            "_view_module_version": "1.2.0",
            "_view_name": "LayoutView",
            "align_content": null,
            "align_items": null,
            "align_self": null,
            "border": null,
            "bottom": null,
            "display": null,
            "flex": null,
            "flex_flow": null,
            "grid_area": null,
            "grid_auto_columns": null,
            "grid_auto_flow": null,
            "grid_auto_rows": null,
            "grid_column": null,
            "grid_gap": null,
            "grid_row": null,
            "grid_template_areas": null,
            "grid_template_columns": null,
            "grid_template_rows": null,
            "height": null,
            "justify_content": null,
            "justify_items": null,
            "left": null,
            "margin": null,
            "max_height": null,
            "max_width": null,
            "min_height": null,
            "min_width": null,
            "object_fit": null,
            "object_position": null,
            "order": null,
            "overflow": null,
            "overflow_x": null,
            "overflow_y": null,
            "padding": null,
            "right": null,
            "top": null,
            "visibility": null,
            "width": null
          }
        },
        "908450f9b80a4daeb494e95b3ae4f56b": {
          "model_module": "@jupyter-widgets/controls",
          "model_name": "DescriptionStyleModel",
          "model_module_version": "1.5.0",
          "state": {
            "_model_module": "@jupyter-widgets/controls",
            "_model_module_version": "1.5.0",
            "_model_name": "DescriptionStyleModel",
            "_view_count": null,
            "_view_module": "@jupyter-widgets/base",
            "_view_module_version": "1.2.0",
            "_view_name": "StyleView",
            "description_width": ""
          }
        },
        "9946358a67834583a5e67c8c2c94214b": {
          "model_module": "@jupyter-widgets/controls",
          "model_name": "HBoxModel",
          "model_module_version": "1.5.0",
          "state": {
            "_dom_classes": [],
            "_model_module": "@jupyter-widgets/controls",
            "_model_module_version": "1.5.0",
            "_model_name": "HBoxModel",
            "_view_count": null,
            "_view_module": "@jupyter-widgets/controls",
            "_view_module_version": "1.5.0",
            "_view_name": "HBoxView",
            "box_style": "",
            "children": [
              "IPY_MODEL_b4aa66ced8ec49009d37a0aa133a38db",
              "IPY_MODEL_72c3cc0b241b42e7ac0e397b59b41980",
              "IPY_MODEL_4829176a057543ba84b78cc4f0c94cb8"
            ],
            "layout": "IPY_MODEL_54782eab0ddf4c2b8cf2c1ace58f1048"
          }
        },
        "b4aa66ced8ec49009d37a0aa133a38db": {
          "model_module": "@jupyter-widgets/controls",
          "model_name": "HTMLModel",
          "model_module_version": "1.5.0",
          "state": {
            "_dom_classes": [],
            "_model_module": "@jupyter-widgets/controls",
            "_model_module_version": "1.5.0",
            "_model_name": "HTMLModel",
            "_view_count": null,
            "_view_module": "@jupyter-widgets/controls",
            "_view_module_version": "1.5.0",
            "_view_name": "HTMLView",
            "description": "",
            "description_tooltip": null,
            "layout": "IPY_MODEL_4bc00c7e20a54c3b96bea972f4602d93",
            "placeholder": "​",
            "style": "IPY_MODEL_f521812ad0f24f1d8e60a6e8b1c13365",
            "value": "model.safetensors: 100%"
          }
        },
        "72c3cc0b241b42e7ac0e397b59b41980": {
          "model_module": "@jupyter-widgets/controls",
          "model_name": "FloatProgressModel",
          "model_module_version": "1.5.0",
          "state": {
            "_dom_classes": [],
            "_model_module": "@jupyter-widgets/controls",
            "_model_module_version": "1.5.0",
            "_model_name": "FloatProgressModel",
            "_view_count": null,
            "_view_module": "@jupyter-widgets/controls",
            "_view_module_version": "1.5.0",
            "_view_name": "ProgressView",
            "bar_style": "success",
            "description": "",
            "description_tooltip": null,
            "layout": "IPY_MODEL_81f1b243310b43a49500ec4ac718a33b",
            "max": 442514448,
            "min": 0,
            "orientation": "horizontal",
            "style": "IPY_MODEL_a6795cdb28184b3c8666ad2f7ac31345",
            "value": 442514448
          }
        },
        "4829176a057543ba84b78cc4f0c94cb8": {
          "model_module": "@jupyter-widgets/controls",
          "model_name": "HTMLModel",
          "model_module_version": "1.5.0",
          "state": {
            "_dom_classes": [],
            "_model_module": "@jupyter-widgets/controls",
            "_model_module_version": "1.5.0",
            "_model_name": "HTMLModel",
            "_view_count": null,
            "_view_module": "@jupyter-widgets/controls",
            "_view_module_version": "1.5.0",
            "_view_name": "HTMLView",
            "description": "",
            "description_tooltip": null,
            "layout": "IPY_MODEL_387f5ffd0be649279a2a005401c4747a",
            "placeholder": "​",
            "style": "IPY_MODEL_4196bac37617494897d41ef8bad16dba",
            "value": " 443M/443M [00:01&lt;00:00, 240MB/s]"
          }
        },
        "54782eab0ddf4c2b8cf2c1ace58f1048": {
          "model_module": "@jupyter-widgets/base",
          "model_name": "LayoutModel",
          "model_module_version": "1.2.0",
          "state": {
            "_model_module": "@jupyter-widgets/base",
            "_model_module_version": "1.2.0",
            "_model_name": "LayoutModel",
            "_view_count": null,
            "_view_module": "@jupyter-widgets/base",
            "_view_module_version": "1.2.0",
            "_view_name": "LayoutView",
            "align_content": null,
            "align_items": null,
            "align_self": null,
            "border": null,
            "bottom": null,
            "display": null,
            "flex": null,
            "flex_flow": null,
            "grid_area": null,
            "grid_auto_columns": null,
            "grid_auto_flow": null,
            "grid_auto_rows": null,
            "grid_column": null,
            "grid_gap": null,
            "grid_row": null,
            "grid_template_areas": null,
            "grid_template_columns": null,
            "grid_template_rows": null,
            "height": null,
            "justify_content": null,
            "justify_items": null,
            "left": null,
            "margin": null,
            "max_height": null,
            "max_width": null,
            "min_height": null,
            "min_width": null,
            "object_fit": null,
            "object_position": null,
            "order": null,
            "overflow": null,
            "overflow_x": null,
            "overflow_y": null,
            "padding": null,
            "right": null,
            "top": null,
            "visibility": null,
            "width": null
          }
        },
        "4bc00c7e20a54c3b96bea972f4602d93": {
          "model_module": "@jupyter-widgets/base",
          "model_name": "LayoutModel",
          "model_module_version": "1.2.0",
          "state": {
            "_model_module": "@jupyter-widgets/base",
            "_model_module_version": "1.2.0",
            "_model_name": "LayoutModel",
            "_view_count": null,
            "_view_module": "@jupyter-widgets/base",
            "_view_module_version": "1.2.0",
            "_view_name": "LayoutView",
            "align_content": null,
            "align_items": null,
            "align_self": null,
            "border": null,
            "bottom": null,
            "display": null,
            "flex": null,
            "flex_flow": null,
            "grid_area": null,
            "grid_auto_columns": null,
            "grid_auto_flow": null,
            "grid_auto_rows": null,
            "grid_column": null,
            "grid_gap": null,
            "grid_row": null,
            "grid_template_areas": null,
            "grid_template_columns": null,
            "grid_template_rows": null,
            "height": null,
            "justify_content": null,
            "justify_items": null,
            "left": null,
            "margin": null,
            "max_height": null,
            "max_width": null,
            "min_height": null,
            "min_width": null,
            "object_fit": null,
            "object_position": null,
            "order": null,
            "overflow": null,
            "overflow_x": null,
            "overflow_y": null,
            "padding": null,
            "right": null,
            "top": null,
            "visibility": null,
            "width": null
          }
        },
        "f521812ad0f24f1d8e60a6e8b1c13365": {
          "model_module": "@jupyter-widgets/controls",
          "model_name": "DescriptionStyleModel",
          "model_module_version": "1.5.0",
          "state": {
            "_model_module": "@jupyter-widgets/controls",
            "_model_module_version": "1.5.0",
            "_model_name": "DescriptionStyleModel",
            "_view_count": null,
            "_view_module": "@jupyter-widgets/base",
            "_view_module_version": "1.2.0",
            "_view_name": "StyleView",
            "description_width": ""
          }
        },
        "81f1b243310b43a49500ec4ac718a33b": {
          "model_module": "@jupyter-widgets/base",
          "model_name": "LayoutModel",
          "model_module_version": "1.2.0",
          "state": {
            "_model_module": "@jupyter-widgets/base",
            "_model_module_version": "1.2.0",
            "_model_name": "LayoutModel",
            "_view_count": null,
            "_view_module": "@jupyter-widgets/base",
            "_view_module_version": "1.2.0",
            "_view_name": "LayoutView",
            "align_content": null,
            "align_items": null,
            "align_self": null,
            "border": null,
            "bottom": null,
            "display": null,
            "flex": null,
            "flex_flow": null,
            "grid_area": null,
            "grid_auto_columns": null,
            "grid_auto_flow": null,
            "grid_auto_rows": null,
            "grid_column": null,
            "grid_gap": null,
            "grid_row": null,
            "grid_template_areas": null,
            "grid_template_columns": null,
            "grid_template_rows": null,
            "height": null,
            "justify_content": null,
            "justify_items": null,
            "left": null,
            "margin": null,
            "max_height": null,
            "max_width": null,
            "min_height": null,
            "min_width": null,
            "object_fit": null,
            "object_position": null,
            "order": null,
            "overflow": null,
            "overflow_x": null,
            "overflow_y": null,
            "padding": null,
            "right": null,
            "top": null,
            "visibility": null,
            "width": null
          }
        },
        "a6795cdb28184b3c8666ad2f7ac31345": {
          "model_module": "@jupyter-widgets/controls",
          "model_name": "ProgressStyleModel",
          "model_module_version": "1.5.0",
          "state": {
            "_model_module": "@jupyter-widgets/controls",
            "_model_module_version": "1.5.0",
            "_model_name": "ProgressStyleModel",
            "_view_count": null,
            "_view_module": "@jupyter-widgets/base",
            "_view_module_version": "1.2.0",
            "_view_name": "StyleView",
            "bar_color": null,
            "description_width": ""
          }
        },
        "387f5ffd0be649279a2a005401c4747a": {
          "model_module": "@jupyter-widgets/base",
          "model_name": "LayoutModel",
          "model_module_version": "1.2.0",
          "state": {
            "_model_module": "@jupyter-widgets/base",
            "_model_module_version": "1.2.0",
            "_model_name": "LayoutModel",
            "_view_count": null,
            "_view_module": "@jupyter-widgets/base",
            "_view_module_version": "1.2.0",
            "_view_name": "LayoutView",
            "align_content": null,
            "align_items": null,
            "align_self": null,
            "border": null,
            "bottom": null,
            "display": null,
            "flex": null,
            "flex_flow": null,
            "grid_area": null,
            "grid_auto_columns": null,
            "grid_auto_flow": null,
            "grid_auto_rows": null,
            "grid_column": null,
            "grid_gap": null,
            "grid_row": null,
            "grid_template_areas": null,
            "grid_template_columns": null,
            "grid_template_rows": null,
            "height": null,
            "justify_content": null,
            "justify_items": null,
            "left": null,
            "margin": null,
            "max_height": null,
            "max_width": null,
            "min_height": null,
            "min_width": null,
            "object_fit": null,
            "object_position": null,
            "order": null,
            "overflow": null,
            "overflow_x": null,
            "overflow_y": null,
            "padding": null,
            "right": null,
            "top": null,
            "visibility": null,
            "width": null
          }
        },
        "4196bac37617494897d41ef8bad16dba": {
          "model_module": "@jupyter-widgets/controls",
          "model_name": "DescriptionStyleModel",
          "model_module_version": "1.5.0",
          "state": {
            "_model_module": "@jupyter-widgets/controls",
            "_model_module_version": "1.5.0",
            "_model_name": "DescriptionStyleModel",
            "_view_count": null,
            "_view_module": "@jupyter-widgets/base",
            "_view_module_version": "1.2.0",
            "_view_name": "StyleView",
            "description_width": ""
          }
        }
      }
    }
  },
  "nbformat": 4,
  "nbformat_minor": 0
}