{
 "cells": [
  {
   "cell_type": "code",
   "execution_count": 1,
   "metadata": {
    "executionInfo": {
     "elapsed": 2478,
     "status": "ok",
     "timestamp": 1736945893846,
     "user": {
      "displayName": "deep learning",
      "userId": "04607673379190979611"
     },
     "user_tz": -180
    },
    "id": "TdoOg2oABf5k"
   },
   "outputs": [],
   "source": [
    "import pandas as pd\n",
    "from sklearn.feature_extraction.text import CountVectorizer\n",
    "import numpy as np"
   ]
  },
  {
   "cell_type": "code",
   "execution_count": 2,
   "metadata": {
    "executionInfo": {
     "elapsed": 3908,
     "status": "ok",
     "timestamp": 1736945899150,
     "user": {
      "displayName": "deep learning",
      "userId": "04607673379190979611"
     },
     "user_tz": -180
    },
    "id": "m0NZqeKJBypP"
   },
   "outputs": [],
   "source": [
    "df = pd.read_csv(\"processed_with_labels_7allV03.csv\")\n",
    "\n",
    "# Bag of Words için CountVectorizer kullanımı\n",
    "max_features = 5000  # En sık kullanılan 500 kelime\n",
    "count_vectorizer = CountVectorizer(max_features=max_features)\n",
    "\n",
    "# Bag of Words matrisi oluşturma\n",
    "sparse_matrix = count_vectorizer.fit_transform(df['processed_text']).toarray()\n",
    "\n",
    "# Sparse matrisi DataFrame'e dönüştürme\n",
    "bow_df = pd.DataFrame(sparse_matrix, columns=count_vectorizer.get_feature_names_out())\n",
    "\n",
    "# Orijinal DataFrame'e bağlama\n",
    "final_df = pd.concat([bow_df])"
   ]
  },
  {
   "cell_type": "code",
   "execution_count": 3,
   "metadata": {
    "executionInfo": {
     "elapsed": 1067,
     "status": "ok",
     "timestamp": 1736946046197,
     "user": {
      "displayName": "deep learning",
      "userId": "04607673379190979611"
     },
     "user_tz": -180
    },
    "id": "Hn7fJ6-fDUaJ"
   },
   "outputs": [],
   "source": [
    "# Yeni DataFrame'i CSV olarak kaydet\n",
    "final_df.to_csv(\"bow_7allV03.csv\", index=False)"
   ]
  },
  {
   "cell_type": "code",
   "execution_count": 4,
   "metadata": {},
   "outputs": [
    {
     "name": "stdout",
     "output_type": "stream",
     "text": [
      "\n",
      "Top 10 most frequent words:\n",
      "bir: 20505\n",
      "türkiye: 5971\n",
      "nin: 5071\n",
      "olarak: 5058\n",
      "ın: 4008\n",
      "olan: 3872\n",
      "in: 3194\n",
      "olduğunu: 3194\n",
      "dedi: 2977\n",
      "nın: 2871\n"
     ]
    }
   ],
   "source": [
    "# Print most common words\n",
    "word_freq = zip(count_vectorizer.get_feature_names_out(), np.sum(sparse_matrix, axis=0))\n",
    "print(\"\\nTop 10 most frequent words:\")\n",
    "for word, freq in sorted(word_freq, key=lambda x: x[1], reverse=True)[:10]:\n",
    "    print(f\"{word}: {freq}\")"
   ]
  }
 ],
 "metadata": {
  "colab": {
   "authorship_tag": "ABX9TyMWT2PltmuqTaS3752jLObR",
   "mount_file_id": "1HS4-_6mkKM6YgyRzOlMmOvSInwfypn3k",
   "provenance": []
  },
  "kernelspec": {
   "display_name": "Python 3",
   "name": "python3"
  },
  "language_info": {
   "codemirror_mode": {
    "name": "ipython",
    "version": 3
   },
   "file_extension": ".py",
   "mimetype": "text/x-python",
   "name": "python",
   "nbconvert_exporter": "python",
   "pygments_lexer": "ipython3",
   "version": "3.12.2"
  }
 },
 "nbformat": 4,
 "nbformat_minor": 0
}
