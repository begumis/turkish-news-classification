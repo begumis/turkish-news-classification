{
 "cells": [
  {
   "cell_type": "code",
   "execution_count": 1,
   "metadata": {
    "executionInfo": {
     "elapsed": 1731423,
     "status": "ok",
     "timestamp": 1736948142270,
     "user": {
      "displayName": "deep learning",
      "userId": "04607673379190979611"
     },
     "user_tz": -180
    },
    "id": "aSCr79i4DhSN"
   },
   "outputs": [],
   "source": [
    "import pandas as pd\n",
    "import numpy as np\n",
    "from sklearn.feature_extraction.text import TfidfVectorizer\n",
    "\n",
    "# İşlenmiş metinlerin bulunduğu CSV dosyasını oku\n",
    "df = pd.read_csv(\"processed_with_labels_7allV03.csv\")\n",
    "\n",
    "# TF-IDF için TfidfVectorizer kullanımı\n",
    "tfidf_vector = TfidfVectorizer(max_features=5000)\n",
    "tfidf_matrix = tfidf_vector.fit_transform(df['processed_text']).toarray()\n",
    "\n",
    "# TF-IDF terim adlarını al ve DataFrame oluştur\n",
    "terms = tfidf_vector.get_feature_names_out()\n",
    "Tfidf_df = pd.DataFrame(tfidf_matrix, columns=terms)\n",
    "\n",
    "\n",
    "\n",
    "# Yeni DataFrame'i CSV olarak kaydet\n",
    "Tfidf_df.to_csv(\"tfidf_7allV03.csv\", index=False)\n"
   ]
  },
  {
   "cell_type": "code",
   "execution_count": 2,
   "metadata": {
    "colab": {
     "base_uri": "https://localhost:8080/",
     "height": 929
    },
    "executionInfo": {
     "elapsed": 1044,
     "status": "ok",
     "timestamp": 1736948243647,
     "user": {
      "displayName": "deep learning",
      "userId": "04607673379190979611"
     },
     "user_tz": -180
    },
    "id": "Xk45H6wxLoB6",
    "outputId": "79177f72-7087-49a9-8622-7d9b8930b8c5"
   },
   "outputs": [
    {
     "name": "stdout",
     "output_type": "stream",
     "text": [
      "TF-IDF features shape: (4900, 5000)\n"
     ]
    }
   ],
   "source": [
    "print(f\"TF-IDF features shape: {tfidf_matrix.shape}\")"
   ]
  }
 ],
 "metadata": {
  "colab": {
   "authorship_tag": "ABX9TyPQp4I1EX7Kja+LIJBxoRcK",
   "mount_file_id": "1PQBEXJWkxwOdN6dCUTJdaQFoPYtpIpaZ",
   "provenance": []
  },
  "kernelspec": {
   "display_name": "Python 3",
   "name": "python3"
  },
  "language_info": {
   "codemirror_mode": {
    "name": "ipython",
    "version": 3
   },
   "file_extension": ".py",
   "mimetype": "text/x-python",
   "name": "python",
   "nbconvert_exporter": "python",
   "pygments_lexer": "ipython3",
   "version": "3.12.2"
  }
 },
 "nbformat": 4,
 "nbformat_minor": 0
}
