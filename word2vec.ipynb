{
 "cells": [
  {
   "cell_type": "code",
   "execution_count": null,
   "metadata": {
    "executionInfo": {
     "elapsed": 26977,
     "status": "ok",
     "timestamp": 1736947660975,
     "user": {
      "displayName": "deep learning",
      "userId": "04607673379190979611"
     },
     "user_tz": -180
    },
    "id": "0FYuL8DGGxr0"
   },
   "outputs": [
    {
     "name": "stdout",
     "output_type": "stream",
     "text": [
      "\n",
      "Generating document vectors...\n",
      "Word2Vec features shape: (4900, 500)\n"
     ]
    }
   ],
   "source": [
    "import pandas as pd\n",
    "import numpy as np\n",
    "import gensim\n",
    "from gensim.models.word2vec import LineSentence\n",
    "\n",
    "\n",
    "# İşlenmiş metinlerin bulunduğu CSV dosyasını oku\n",
    "df = pd.read_csv(\"processed_with_labels_7allV03.csv\")\n",
    "\n",
    "\n",
    "# Word2Vec modelini eğit\n",
    "tokenized_texts = LineSentence('processed_with_labels_7allV03.csv', max_sentence_length=5000)\n",
    "\n",
    "\n",
    "word2vec_model = gensim.models.Word2Vec(sentences=tokenized_texts, vector_size=500, window=10, min_count=1, workers=4, sg=1, epochs=20)\n",
    "\n",
    "\n",
    "# Modeli kaydet\n",
    "word2vec_model.save(\"3_word2vec_model.model\")\n",
    "\n",
    "def get_document_vector(text, model):\n",
    "    words = text.split()\n",
    "    word_vecs = []\n",
    "    for word in words:\n",
    "        if word in model.wv:\n",
    "            word_vecs.append(model.wv[word])\n",
    "    if word_vecs:\n",
    "        return np.mean(word_vecs, axis=0)\n",
    "    else:\n",
    "        return np.zeros(model.vector_size)\n",
    "    \n",
    "\n",
    "    # Generate document vectors\n",
    "print(\"\\nGenerating document vectors...\")\n",
    "doc_vectors = []\n",
    "for text in df['processed_text']:\n",
    "    doc_vectors.append(get_document_vector(text, word2vec_model))\n",
    "\n",
    "\n",
    "\n",
    "# Convert to numpy array\n",
    "word2vec_features = np.array(doc_vectors)\n",
    "\n",
    "\n",
    "# Save Word2Vec features\n",
    "word2vec_df = pd.DataFrame(word2vec_features)\n",
    "word2vec_df.to_csv('word2vec_features.csv', index=False)\n",
    "print(f\"Word2Vec features shape: {word2vec_features.shape}\")\n"
   ]
  }
 ],
 "metadata": {
  "colab": {
   "authorship_tag": "ABX9TyNqae/jgAp7RGhmUD/KHKKw",
   "mount_file_id": "1HFxvxcRjx_Y0RRmXlLKbf63ICRtYFSmW",
   "provenance": []
  },
  "kernelspec": {
   "display_name": "Python 3",
   "name": "python3"
  },
  "language_info": {
   "codemirror_mode": {
    "name": "ipython",
    "version": 3
   },
   "file_extension": ".py",
   "mimetype": "text/x-python",
   "name": "python",
   "nbconvert_exporter": "python",
   "pygments_lexer": "ipython3",
   "version": "3.12.2"
  }
 },
 "nbformat": 4,
 "nbformat_minor": 0
}
